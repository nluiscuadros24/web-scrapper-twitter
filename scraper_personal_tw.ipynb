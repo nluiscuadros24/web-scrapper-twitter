{
  "nbformat": 4,
  "nbformat_minor": 0,
  "metadata": {
    "colab": {
      "name": "scraper personal tw",
      "provenance": []
    },
    "kernelspec": {
      "name": "python3",
      "display_name": "Python 3"
    }
  },
  "cells": [
    {
      "cell_type": "code",
      "metadata": {
        "id": "2WlVcny26-_q"
      },
      "source": [
        "import tweepy\n",
        "from tweepy import OAuthHandler"
      ],
      "execution_count": null,
      "outputs": []
    },
    {
      "cell_type": "code",
      "metadata": {
        "id": "h8VqiYl3PdA1"
      },
      "source": [
        "consumer_key = 'N1c0WJXFO6VnFAMTKKZqnLyXh'\n",
        "consumer_secret = 'Gbxc1lJj2TLWjCGxZm57bwWSj0cionOdeURNcLUfYIDtFz39sO'\n",
        "access_token = '1281331699700375557-QaKousrW9dfoi38izeRCY4gIzttPES'\n",
        "access_token_secret = 'zFN4MO41NP3W9vAZbmCe6kPFyyBGU8GGRd2cFDOj3WjJC'"
      ],
      "execution_count": null,
      "outputs": []
    },
    {
      "cell_type": "code",
      "metadata": {
        "id": "SfaBArUXI9Zc"
      },
      "source": [
        "auth = tweepy.OAuthHandler(consumer_key, consumer_secret)\n",
        "auth.set_access_token(access_token, access_token_secret)\n",
        "# con este objeto realizaremos todas las llamadas al API\n",
        "api = tweepy.API(auth,\n",
        "                 wait_on_rate_limit=True,\n",
        "                 wait_on_rate_limit_notify=True)"
      ],
      "execution_count": null,
      "outputs": []
    },
    {
      "cell_type": "code",
      "metadata": {
        "id": "Wlv-UKA0I9Tx"
      },
      "source": [
        "auth = tweepy.OAuthHandler(consumer_key, consumer_secret)\n",
        "auth.set_access_token(access_token, access_token_secret)\n",
        "api = tweepy.API(auth)"
      ],
      "execution_count": null,
      "outputs": []
    },
    {
      "cell_type": "code",
      "metadata": {
        "id": "ILTRuU_pPkmk",
        "colab": {
          "base_uri": "https://localhost:8080/",
          "height": 187
        },
        "outputId": "cda51184-6776-436a-fffb-a4c777da6bd3"
      },
      "source": [
        "pip install emoji"
      ],
      "execution_count": null,
      "outputs": [
        {
          "output_type": "stream",
          "text": [
            "Collecting emoji\n",
            "\u001b[?25l  Downloading https://files.pythonhosted.org/packages/ff/1c/1f1457fe52d0b30cbeebfd578483cedb3e3619108d2d5a21380dfecf8ffd/emoji-0.6.0.tar.gz (51kB)\n",
            "\r\u001b[K     |██████▍                         | 10kB 15.0MB/s eta 0:00:01\r\u001b[K     |████████████▉                   | 20kB 1.6MB/s eta 0:00:01\r\u001b[K     |███████████████████▎            | 30kB 1.8MB/s eta 0:00:01\r\u001b[K     |█████████████████████████▊      | 40kB 2.1MB/s eta 0:00:01\r\u001b[K     |████████████████████████████████| 51kB 1.5MB/s \n",
            "\u001b[?25hBuilding wheels for collected packages: emoji\n",
            "  Building wheel for emoji (setup.py) ... \u001b[?25l\u001b[?25hdone\n",
            "  Created wheel for emoji: filename=emoji-0.6.0-cp36-none-any.whl size=49716 sha256=56823ff34b1cd8d5fc36027be0356a0e7b321cd060d034b20d75e1da5fdd0ca5\n",
            "  Stored in directory: /root/.cache/pip/wheels/46/2c/8b/9dcf5216ca68e14e0320e283692dce8ae321cdc01e73e17796\n",
            "Successfully built emoji\n",
            "Installing collected packages: emoji\n",
            "Successfully installed emoji-0.6.0\n"
          ],
          "name": "stdout"
        }
      ]
    },
    {
      "cell_type": "code",
      "metadata": {
        "id": "69LXeQYNSVbW"
      },
      "source": [
        "import csv \n",
        "import emoji"
      ],
      "execution_count": null,
      "outputs": []
    },
    {
      "cell_type": "code",
      "metadata": {
        "id": "Bq5Hg5oPpRdY",
        "colab": {
          "base_uri": "https://localhost:8080/",
          "height": 1000
        },
        "outputId": "80e07735-4dad-4f9c-9e44-dc6c524e1568"
      },
      "source": [
        "timeline = api.user_timeline(id=\"AnitaPlua\", count=100, tweet_mode=\"extended\")\n",
        "\n",
        "with open('test2.csv', 'w', newline='', encoding='utf-8') as file:\n",
        "  writer = csv.writer(file)\n",
        "  writer.writerow([\"Date\", \"Day\", \"Tweet\", \"Retweets\", \"Likes\"])\n",
        "\n",
        "\n",
        "  for tweet in timeline:\n",
        "    text_tweet = tweet.full_text\n",
        "    print(text_tweet)\n",
        "    allchars = [str for str in text_tweet]\n",
        "    emoji_list = [c for c in allchars if c in emoji.UNICODE_EMOJI]\n",
        "    clean_text = ''.join([str for str in text_tweet.split() if not any(i in str for i in emoji_list)])\n",
        "    data = [tweet.created_at.date().strftime(\"%b %d %Y \"), tweet.created_at.date().strftime(\"%b %d\"), clean_text, tweet.retweet_count, tweet.favorite_count]\n",
        "    writer.writerow(data)\n",
        "\n",
        "   "
      ],
      "execution_count": null,
      "outputs": [
        {
          "output_type": "stream",
          "text": [
            "https://t.co/QrgXNPYBhy\n",
            "https://t.co/K5vlIP0mrS\n",
            "RT @JLo: RIP #chadwickboseman ♥️🙏🏽 https://t.co/dyBsgBuU47\n",
            "@_Holograma_ La gente es estúpida 😠😠\n",
            "RT @ConsejeroUnico: ⠀\n",
            "⠀\n",
            "        \"El beso en la frente, \n",
            "  tiene un significado increíble, \n",
            "   púes denota protección. La\n",
            " persona que te da…\n",
            "RT @CristinaReyesec: El país no puede pagar más impuestos, el equipo que ha acompañado a @Lenín ha demostrado en estos 3 años incapacidad p…\n",
            "¿Recuerdas cuando te uniste a Twitter? ¡Yo sí! #MiAniversarioDeTwitter https://t.co/s4FqEuwhKR\n",
            "Excelente información https://t.co/k7VUi16RcJ\n",
            "@sachacristo1 Me ha dejado con la boca abierta, mil gracias Sr. Masuro\n",
            "@Vynylplayer @_Holograma_ Es una pena\n",
            "RT @Vynylplayer: A ver esos abogaduchos de ddhh vayan a dialogar con esa gente.... ahí los quiero ver\n",
            "@MimiMoralesM https://t.co/FpIpOjCZod\n",
            "@MimiMoralesM Andrea espero que te ayude y que Dios proteja a tu Mami, Dios es grande\n",
            "@MimiMoralesM https://t.co/XbabZFsrEo\n",
            "@MimiMoralesM https://t.co/Jvw3Qiafyg\n",
            "RT @elcomerciocom: Otro de los efectos en el medio ambiente por el impacto del #covid19 se evidencia en Salinas, uno de los destinos turíst…\n",
            "RT @isa_inguanzo: Ayer murió la primera sanitaria por #Covid_19. Era enfermera en el hospital de mi pueblo. Tenía 52 años. Nadie del pueblo…\n",
            "RT @bianksteph: Cuando estás en cuarentena pero tienes que pasear al perro... https://t.co/ibxnuHdVyv\n",
            "RT @SbastienMlires1: Hoy @SweetandCoffee donó su inventario a distintos hospitales. Algunos dirán que les sobra la plata y los alimentos, y…\n",
            "RT @DiarioExtraEc: La Policía logró desactivar un baile clandestino denominado “Coronavirus Party”. Los organizadores hacían descuento a qu…\n",
            "#NuevaFotoDePerfil https://t.co/tRIRL8BmOn\n",
            "RT @ampar0td: @DulceMaria Siento mucho dolor e impotencia por la falta de humanización qué hay en el mundo. Te envío un abrazo.\n",
            "@ATM_Transito @DenunciasEcuad3 @CTEcuador @ATMGuayaquil @thewatcher_ec @PabloBo98819392 @Feramosa @Ecucomotu @Ternurita3103 @PolitiqueriaEcu @alcaldiagye @andresroche @PedroPabloDuart @EduardoAyalaG Esta multa tenía que ser más alta.\n",
            "RT @paultutiven: ATENTOS: Asi circulaba un grupo de jóvenes a lo largo de la Av Víctor Emilio Estrada, Urdesa, norte Guayaquil @ATM_Transit…\n",
            "RT @gabitoriera: Me acaba de llegar esto... Qué opinan??? Los leo... https://t.co/uARyCDBVHP\n",
            "RT @elcomerciocom: #ATENCIÓN | Nuevo impuesto se refleja desde este 10 de febrero del 2020 en las facturas de planes de celulares en Ecuado…\n",
            "#NuevaFotoDePerfil\n",
            "@msn_es Porque terminó con una escoria de la vida, la condena en que mundo vivimos.\n",
            "RT @jaimevargasnae: ♥️ Siway Lozano, 11 años, Kichwa de Saraguro, con transparencia y valentía fue la voz de la niñez ecuatoriana con su me…\n",
            "@_Holograma_ Díos es grande La tu, bendiciones para tu nena.\n",
            "RT @jaimenebotsaadi: Por Guayaquil y por el Ecuador. \n",
            "(audio) https://t.co/tqWXZ9tTX7\n",
            "RT @ATM_Transito: #ATMinforma | Se informa a la ciudadanía que eviten circular en la Vía Perimetral en los dos sentidos junto al primer pue…\n",
            "RT @Gamavisionecu: #URGENTE | Este es el momento exacto en el que rompen las puertas exteriores de la #AsambleaNacional \n",
            "Pedimos a la ciuda…\n",
            "RT @M_humanista_uy: Tomar agua pura siempre te dará vida, pero tomar conciencia siempre te dará agua #DiaMundialDelAgua https://t.co/f1Gz0Y…\n",
            "https://t.co/KmSKHVGqSo\n",
            "RT @Mariss82: @MiNotaDeAmor https://t.co/p5pk2cdoi5\n",
            "RT @LuisFonsi: #Despacito es un Movimiento Global gracias a su apoyo! Thank you for the love🙏🏽 @daddy_yankee #300Million #WeBreakingRecords…\n",
            "RT @CSEmelec: La #Tricolor juega en nuestra casa, en el Estadio Banco del Pacífico Capwell. Este miércoles 22 de febrero 🇪🇨#Ecuador VS 🇭🇳#H…\n",
            "https://t.co/0OHuvVxqif\n",
            "No qué concepto tienen las personas de mi, siempre escucho, no te vas a #cansar , no canso del trabajo, si de la actitud de la gente. Ok\n",
            "RT @BancoPacificoEC: ¡Revive la fiesta de Reinauguración del Estadio @BancoPacificoEC en el encuentro inaugural de @CSEmelec versus su simi…\n",
            "RT @CSEmelec: En la #ExplosiónAzul podrás encontrar una gran variedad de productos personalizados y  productos oficiales del Bombillo ¡Te e…\n",
            "https://t.co/rkTawrxVJQ\n",
            "Feliz de tu gloria mi #bombillo 💙💙💙💙 https://t.co/zUxl13urL9\n",
            "RT @CSEmelec: Compra la camiseta oficial de Emelec y reclama tu raspadita para ganar entradas dobles para ver a Emelec y accesorios adidas…\n",
            "Zendesk no se que es eso, igualmente tengo que hacer un proyectó. Me encanta el retó. 😊😋\n",
            "RT @marianagc: ¡Gran día para todos! A sonreír... ☘ https://t.co/jQvUtX8SPA\n",
            "RT @karlita_naranjo: Quienes compran lo robado son tan culpables como los ladrones. NO COMPRES LO ROBADO!! Así también se hace justicia por…\n",
            "RT @CSEmelec: El Club Sport Emelec saluda a la ciudad que lo vio nacer. ¡Viva Guayaquil! 🎉 #GarraGuayaquileña ⚡ https://t.co/ZTuWpgnycV\n",
            "Superman el amor de mi vida. https://t.co/KYfbMpLCBF\n",
            "Es lo.mejor  https://t.co/u9AyW35rTy\n",
            "RT @EresChiste: Admiro mi capacidad de sorportar gente que merece una patada en la cara.\n",
            "RT @CSEmelec: #FOTOS Se vive un carnaval azul en el #EmelecFanFest en el centro de convenciones #SiempreAzul #VamosEmelec 💙⚡ https://t.co/7…\n",
            "RT @CSEmelec: ¡Falta poco! #SiempreAzul te espera del 2 al 4 de Septiembre, en el Centro de Convenciones https://t.co/VuSUM5tftA https://t.…\n",
            "Mi mami dice que soy su bebe aunque ya este viejita. Te amo mami aunque me quieras matar por mi genio.:-) https://t.co/wEIhlqCfi9\n",
            "Mis vestidos de #Novia no sé cuál escoger ❤️❤️❤️❤️😱😱 https://t.co/7wLVPBxBPs\n",
            "RT @EcuavisaInforma: Desde los octavos de final #IDV decidió donar toda su taquilla para los damnificados del terremoto. #Visión360 https:/…\n",
            "RT @CSEmelec: #VivaGuayaquil La cuna del Club Sport Emelec. Felicidades por tus 481 años de fundación  🎉 #GarraGuayaquileña https://t.co/GS…\n",
            "❤️❤️ https://t.co/ZVZiJfrMa4\n",
            "Hermosa apoyando a mi #Emelec 💙💙💙💙\n",
            "😜😜😜 https://t.co/L7ho2ajLeM\n",
            "Muchos cambios en mi vida pero siempre Sonríe 😊😊😿💪🏼 https://t.co/BBVoKZYQLy\n",
            "RT @ecuavisa: Sube una foto de tu hijo y su mascota, usa #EcuavisaYLasMascotas y podrás llevarlo al pre estreno. (Para UIO-GYE) https://t.c…\n",
            "RT @ulvr_edu: https://t.co/Y8i82R15M0\n",
            "RT @DomeSprt: Comenzando bien el día... 🙌 https://t.co/Szfq6pAOZt\n",
            "😔 odio estar enferma. No quiero saber nada de inyecciones nos pastillas 😫😩😒 Dios cuídame 🙏🏻\n",
            "RT @EcuavisaInforma: Conductor del camión que atropelló a una multitud en Niza, Francia fue abatido  https://t.co/pexBNL73uc https://t.co/v…\n",
            "RT @CSEmelec: Este domingo DOBLETE EN EL ALBERTO SPENCER. Precios para @CSEmelec Vs. @ClubMushucRuna1 (Preliminar #River - #Aucas) https://…\n",
            "RT @CSEmelec: Fernando Giménez @vikingogimenez  está de cumpleaños hoy. ¡Felicidades, Vikingo! https://t.co/340Bw1bsmn\n",
            "RT @DulceMaria: Y si... Y a veces aunque no digas nada...por el solo hecho de existir y no ser o hacer lo que la gente espera 🤔😏 https://t.…\n",
            "RT @EcuavisaInforma: Reportan dos vigilantes muertos en Av. Tanca Marengo, a la altura de Cdla Martha de Roldós. Foto: @crudarealidadec htt…\n"
          ],
          "name": "stdout"
        }
      ]
    },
    {
      "cell_type": "code",
      "metadata": {
        "id": "PoUluInbpRYX",
        "colab": {
          "base_uri": "https://localhost:8080/",
          "height": 419
        },
        "outputId": "82147ad1-0b59-4377-ad84-63d026f341ac"
      },
      "source": [
        "import pandas as pd\n",
        "\n",
        "data_2 = pd.read_csv(\"test2.csv\")\n",
        "data_2\n"
      ],
      "execution_count": null,
      "outputs": [
        {
          "output_type": "execute_result",
          "data": {
            "text/html": [
              "<div>\n",
              "<style scoped>\n",
              "    .dataframe tbody tr th:only-of-type {\n",
              "        vertical-align: middle;\n",
              "    }\n",
              "\n",
              "    .dataframe tbody tr th {\n",
              "        vertical-align: top;\n",
              "    }\n",
              "\n",
              "    .dataframe thead th {\n",
              "        text-align: right;\n",
              "    }\n",
              "</style>\n",
              "<table border=\"1\" class=\"dataframe\">\n",
              "  <thead>\n",
              "    <tr style=\"text-align: right;\">\n",
              "      <th></th>\n",
              "      <th>Date</th>\n",
              "      <th>Day</th>\n",
              "      <th>Tweet</th>\n",
              "      <th>Retweets</th>\n",
              "      <th>Likes</th>\n",
              "    </tr>\n",
              "  </thead>\n",
              "  <tbody>\n",
              "    <tr>\n",
              "      <th>0</th>\n",
              "      <td>Sep 05 2020</td>\n",
              "      <td>Sep 05</td>\n",
              "      <td>https://t.co/QrgXNPYBhy</td>\n",
              "      <td>0</td>\n",
              "      <td>0</td>\n",
              "    </tr>\n",
              "    <tr>\n",
              "      <th>1</th>\n",
              "      <td>Aug 29 2020</td>\n",
              "      <td>Aug 29</td>\n",
              "      <td>https://t.co/K5vlIP0mrS</td>\n",
              "      <td>0</td>\n",
              "      <td>0</td>\n",
              "    </tr>\n",
              "    <tr>\n",
              "      <th>2</th>\n",
              "      <td>Aug 29 2020</td>\n",
              "      <td>Aug 29</td>\n",
              "      <td>RT@JLo:RIP#chadwickbosemanhttps://t.co/dyBsgBuU47</td>\n",
              "      <td>2634</td>\n",
              "      <td>0</td>\n",
              "    </tr>\n",
              "    <tr>\n",
              "      <th>3</th>\n",
              "      <td>May 21 2020</td>\n",
              "      <td>May 21</td>\n",
              "      <td>@_Holograma_Lagenteesestúpida</td>\n",
              "      <td>0</td>\n",
              "      <td>0</td>\n",
              "    </tr>\n",
              "    <tr>\n",
              "      <th>4</th>\n",
              "      <td>May 03 2020</td>\n",
              "      <td>May 03</td>\n",
              "      <td>RT@ConsejeroUnico:⠀⠀\"Elbesoenlafrente,tieneuns...</td>\n",
              "      <td>1331</td>\n",
              "      <td>0</td>\n",
              "    </tr>\n",
              "    <tr>\n",
              "      <th>...</th>\n",
              "      <td>...</td>\n",
              "      <td>...</td>\n",
              "      <td>...</td>\n",
              "      <td>...</td>\n",
              "      <td>...</td>\n",
              "    </tr>\n",
              "    <tr>\n",
              "      <th>65</th>\n",
              "      <td>Jul 15 2016</td>\n",
              "      <td>Jul 15</td>\n",
              "      <td>RT@EcuavisaInforma:Conductordelcamiónqueatrope...</td>\n",
              "      <td>4</td>\n",
              "      <td>0</td>\n",
              "    </tr>\n",
              "    <tr>\n",
              "      <th>66</th>\n",
              "      <td>Jul 15 2016</td>\n",
              "      <td>Jul 15</td>\n",
              "      <td>RT@CSEmelec:EstedomingoDOBLETEENELALBERTOSPENC...</td>\n",
              "      <td>156</td>\n",
              "      <td>0</td>\n",
              "    </tr>\n",
              "    <tr>\n",
              "      <th>67</th>\n",
              "      <td>Jul 10 2016</td>\n",
              "      <td>Jul 10</td>\n",
              "      <td>RT@CSEmelec:FernandoGiménez@vikingogimenezestá...</td>\n",
              "      <td>287</td>\n",
              "      <td>0</td>\n",
              "    </tr>\n",
              "    <tr>\n",
              "      <th>68</th>\n",
              "      <td>Jul 09 2016</td>\n",
              "      <td>Jul 09</td>\n",
              "      <td>RT@DulceMaria:Ysi...Yavecesaunquenodigasnada.....</td>\n",
              "      <td>1998</td>\n",
              "      <td>0</td>\n",
              "    </tr>\n",
              "    <tr>\n",
              "      <th>69</th>\n",
              "      <td>Jun 30 2016</td>\n",
              "      <td>Jun 30</td>\n",
              "      <td>RT@EcuavisaInforma:Reportandosvigilantesmuerto...</td>\n",
              "      <td>126</td>\n",
              "      <td>0</td>\n",
              "    </tr>\n",
              "  </tbody>\n",
              "</table>\n",
              "<p>70 rows × 5 columns</p>\n",
              "</div>"
            ],
            "text/plain": [
              "            Date     Day  ... Retweets  Likes\n",
              "0   Sep 05 2020   Sep 05  ...        0      0\n",
              "1   Aug 29 2020   Aug 29  ...        0      0\n",
              "2   Aug 29 2020   Aug 29  ...     2634      0\n",
              "3   May 21 2020   May 21  ...        0      0\n",
              "4   May 03 2020   May 03  ...     1331      0\n",
              "..           ...     ...  ...      ...    ...\n",
              "65  Jul 15 2016   Jul 15  ...        4      0\n",
              "66  Jul 15 2016   Jul 15  ...      156      0\n",
              "67  Jul 10 2016   Jul 10  ...      287      0\n",
              "68  Jul 09 2016   Jul 09  ...     1998      0\n",
              "69  Jun 30 2016   Jun 30  ...      126      0\n",
              "\n",
              "[70 rows x 5 columns]"
            ]
          },
          "metadata": {
            "tags": []
          },
          "execution_count": 9
        }
      ]
    },
    {
      "cell_type": "code",
      "metadata": {
        "id": "BkwwztrjpRPm"
      },
      "source": [
        "from textblob import TextBlob\n",
        "popularity_list = []"
      ],
      "execution_count": null,
      "outputs": []
    },
    {
      "cell_type": "code",
      "metadata": {
        "id": "lJUQDB3ipQ9_",
        "colab": {
          "base_uri": "https://localhost:8080/",
          "height": 1000
        },
        "outputId": "102f95ba-e191-4697-fb08-3a9cb20c81bd"
      },
      "source": [
        "for tweet in data_2 ['Tweet']:\n",
        "  print (tweet)\n",
        "\n",
        "  analysis = TextBlob(tweet)\n",
        "  analysis = analysis.sentiment\n",
        "  print (analysis)\n",
        "  popularity = analysis.polarity\n",
        "  popularity_list.append(popularity)"
      ],
      "execution_count": null,
      "outputs": [
        {
          "output_type": "stream",
          "text": [
            "https://t.co/QrgXNPYBhy\n",
            "Sentiment(polarity=0.0, subjectivity=0.0)\n",
            "https://t.co/K5vlIP0mrS\n",
            "Sentiment(polarity=0.0, subjectivity=0.0)\n",
            "RT@JLo:RIP#chadwickbosemanhttps://t.co/dyBsgBuU47\n",
            "Sentiment(polarity=0.0, subjectivity=0.0)\n",
            "@_Holograma_Lagenteesestúpida\n",
            "Sentiment(polarity=0.0, subjectivity=0.0)\n",
            "RT@ConsejeroUnico:⠀⠀\"Elbesoenlafrente,tieneunsignificadoincreíble,púesdenotaprotección.Lapersonaqueteda…\n",
            "Sentiment(polarity=0.0, subjectivity=0.0)\n",
            "RT@CristinaReyesec:Elpaísnopuedepagarmásimpuestos,elequipoquehaacompañadoa@Lenínhademostradoenestos3añosincapacidadp…\n",
            "Sentiment(polarity=0.0, subjectivity=0.0)\n",
            "¿RecuerdascuandoteunisteaTwitter?¡Yosí!#MiAniversarioDeTwitterhttps://t.co/s4FqEuwhKR\n",
            "Sentiment(polarity=0.0, subjectivity=0.0)\n",
            "Excelenteinformaciónhttps://t.co/k7VUi16RcJ\n",
            "Sentiment(polarity=0.0, subjectivity=0.0)\n",
            "@sachacristo1Mehadejadoconlabocaabierta,milgraciasSr.Masuro\n",
            "Sentiment(polarity=0.0, subjectivity=0.0)\n",
            "@Vynylplayer@_Holograma_Esunapena\n",
            "Sentiment(polarity=0.0, subjectivity=0.0)\n",
            "RT@Vynylplayer:Averesosabogaduchosdeddhhvayanadialogarconesagente....ahílosquierover\n",
            "Sentiment(polarity=0.0, subjectivity=0.0)\n",
            "@MimiMoralesMhttps://t.co/FpIpOjCZod\n",
            "Sentiment(polarity=0.0, subjectivity=0.0)\n",
            "@MimiMoralesMAndreaesperoqueteayudeyqueDiosprotejaatuMami,Diosesgrande\n",
            "Sentiment(polarity=0.0, subjectivity=0.0)\n",
            "@MimiMoralesMhttps://t.co/XbabZFsrEo\n",
            "Sentiment(polarity=0.0, subjectivity=0.0)\n",
            "@MimiMoralesMhttps://t.co/Jvw3Qiafyg\n",
            "Sentiment(polarity=0.0, subjectivity=0.0)\n",
            "RT@elcomerciocom:Otrodelosefectosenelmedioambienteporelimpactodel#covid19seevidenciaenSalinas,unodelosdestinosturíst…\n",
            "Sentiment(polarity=0.0, subjectivity=0.0)\n",
            "RT@isa_inguanzo:Ayermuriólaprimerasanitariapor#Covid_19.Eraenfermeraenelhospitaldemipueblo.Tenía52años.Nadiedelpueblo…\n",
            "Sentiment(polarity=0.0, subjectivity=0.0)\n",
            "RT@bianksteph:Cuandoestásencuarentenaperotienesquepasearalperro...https://t.co/ibxnuHdVyv\n",
            "Sentiment(polarity=0.0, subjectivity=0.0)\n",
            "RT@SbastienMlires1:Hoy@SweetandCoffeedonósuinventarioadistintoshospitales.Algunosdiránquelessobralaplataylosalimentos,y…\n",
            "Sentiment(polarity=0.0, subjectivity=0.0)\n",
            "RT@DiarioExtraEc:LaPolicíalogródesactivarunbaileclandestinodenominado“CoronavirusParty”.Losorganizadoreshacíandescuentoaqu…\n",
            "Sentiment(polarity=0.0, subjectivity=0.0)\n",
            "#NuevaFotoDePerfilhttps://t.co/tRIRL8BmOn\n",
            "Sentiment(polarity=0.0, subjectivity=0.0)\n",
            "RT@ampar0td:@DulceMariaSientomuchodoloreimpotenciaporlafaltadehumanizaciónquéhayenelmundo.Teenvíounabrazo.\n",
            "Sentiment(polarity=0.0, subjectivity=0.0)\n",
            "@ATM_Transito@DenunciasEcuad3@CTEcuador@ATMGuayaquil@thewatcher_ec@PabloBo98819392@Feramosa@Ecucomotu@Ternurita3103@PolitiqueriaEcu@alcaldiagye@andresroche@PedroPabloDuart@EduardoAyalaGEstamultateníaquesermásalta.\n",
            "Sentiment(polarity=0.0, subjectivity=0.0)\n",
            "RT@paultutiven:ATENTOS:AsicirculabaungrupodejóvenesalolargodelaAvVíctorEmilioEstrada,Urdesa,norteGuayaquil@ATM_Transit…\n",
            "Sentiment(polarity=0.0, subjectivity=0.0)\n",
            "RT@gabitoriera:Meacabadellegaresto...Quéopinan???Losleo...https://t.co/uARyCDBVHP\n",
            "Sentiment(polarity=0.0, subjectivity=0.0)\n",
            "RT@elcomerciocom:#ATENCIÓN|Nuevoimpuestosereflejadesdeeste10defebrerodel2020enlasfacturasdeplanesdecelularesenEcuado…\n",
            "Sentiment(polarity=0.0, subjectivity=0.0)\n",
            "#NuevaFotoDePerfil\n",
            "Sentiment(polarity=0.0, subjectivity=0.0)\n",
            "@msn_esPorqueterminóconunaescoriadelavida,lacondenaenquemundovivimos.\n",
            "Sentiment(polarity=0.0, subjectivity=0.0)\n",
            "RT@jaimevargasnae:SiwayLozano,11años,KichwadeSaraguro,contransparenciayvalentíafuelavozdelaniñezecuatorianaconsume…\n",
            "Sentiment(polarity=0.0, subjectivity=0.0)\n",
            "@_Holograma_DíosesgrandeLatu,bendicionesparatunena.\n",
            "Sentiment(polarity=0.0, subjectivity=0.0)\n",
            "RT@jaimenebotsaadi:PorGuayaquilyporelEcuador.(audio)https://t.co/tqWXZ9tTX7\n",
            "Sentiment(polarity=0.0, subjectivity=0.0)\n",
            "RT@ATM_Transito:#ATMinforma|SeinformaalaciudadaníaqueevitencircularenlaVíaPerimetralenlosdossentidosjuntoalprimerpue…\n",
            "Sentiment(polarity=0.0, subjectivity=0.0)\n",
            "RT@Gamavisionecu:#URGENTE|Esteeselmomentoexactoenelquerompenlaspuertasexterioresdela#AsambleaNacionalPedimosalaciuda…\n",
            "Sentiment(polarity=0.0, subjectivity=0.0)\n",
            "RT@M_humanista_uy:Tomaraguapurasiempretedarávida,perotomarconcienciasiempretedaráagua#DiaMundialDelAguahttps://t.co/f1Gz0Y…\n",
            "Sentiment(polarity=0.0, subjectivity=0.0)\n",
            "https://t.co/KmSKHVGqSo\n",
            "Sentiment(polarity=0.0, subjectivity=0.0)\n",
            "RT@Mariss82:@MiNotaDeAmorhttps://t.co/p5pk2cdoi5\n",
            "Sentiment(polarity=0.0, subjectivity=0.0)\n",
            "RT@LuisFonsi:#DespacitoesunMovimientoGlobalgraciasasuapoyo!Thankyouforthe@daddy_yankee#300Million#WeBreakingRecords…\n",
            "Sentiment(polarity=0.0, subjectivity=0.0)\n",
            "RT@CSEmelec:La#Tricolorjuegaennuestracasa,enelEstadioBancodelPacíficoCapwell.Estemiércoles22defebreroVS\n",
            "Sentiment(polarity=0.0, subjectivity=0.0)\n",
            "https://t.co/0OHuvVxqif\n",
            "Sentiment(polarity=0.0, subjectivity=0.0)\n",
            "Noquéconceptotienenlaspersonasdemi,siempreescucho,notevasa#cansar,nocansodeltrabajo,sidelaactituddelagente.Ok\n",
            "Sentiment(polarity=0.0, subjectivity=0.0)\n",
            "RT@BancoPacificoEC:¡RevivelafiestadeReinauguracióndelEstadio@BancoPacificoECenelencuentroinauguralde@CSEmelecversussusimi…\n",
            "Sentiment(polarity=0.0, subjectivity=0.0)\n",
            "RT@CSEmelec:Enla#ExplosiónAzulpodrásencontrarunagranvariedaddeproductospersonalizadosyproductosoficialesdelBombillo¡Tee…\n",
            "Sentiment(polarity=0.0, subjectivity=0.0)\n",
            "https://t.co/rkTawrxVJQ\n",
            "Sentiment(polarity=0.0, subjectivity=0.0)\n",
            "Felizdetugloriami#bombillohttps://t.co/zUxl13urL9\n",
            "Sentiment(polarity=0.0, subjectivity=0.0)\n",
            "RT@CSEmelec:CompralacamisetaoficialdeEmelecyreclamaturaspaditaparaganarentradasdoblesparaveraEmelecyaccesoriosadidas…\n",
            "Sentiment(polarity=0.0, subjectivity=0.0)\n",
            "Zendesknosequeeseso,igualmentetengoquehacerunproyectó.Meencantaelretó.\n",
            "Sentiment(polarity=0.0, subjectivity=0.0)\n",
            "RT@marianagc:¡Grandíaparatodos!Asonreír...https://t.co/jQvUtX8SPA\n",
            "Sentiment(polarity=0.0, subjectivity=0.0)\n",
            "RT@karlita_naranjo:Quienescompranlorobadosontanculpablescomolosladrones.NOCOMPRESLOROBADO!!Asítambiénsehacejusticiapor…\n",
            "Sentiment(polarity=0.0, subjectivity=0.0)\n",
            "RT@CSEmelec:ElClubSportEmelecsaludaalaciudadquelovionacer.¡VivaGuayaquil!#GarraGuayaquileñahttps://t.co/ZTuWpgnycV\n",
            "Sentiment(polarity=0.0, subjectivity=0.0)\n",
            "Supermanelamordemivida.https://t.co/KYfbMpLCBF\n",
            "Sentiment(polarity=0.0, subjectivity=0.0)\n",
            "Eslo.mejorhttps://t.co/u9AyW35rTy\n",
            "Sentiment(polarity=0.0, subjectivity=0.0)\n",
            "RT@EresChiste:Admiromicapacidaddesorportargentequemereceunapatadaenlacara.\n",
            "Sentiment(polarity=0.0, subjectivity=0.0)\n",
            "RT@CSEmelec:#FOTOSSeviveuncarnavalazulenel#EmelecFanFestenelcentrodeconvenciones#SiempreAzul#VamosEmelechttps://t.co/7…\n",
            "Sentiment(polarity=0.0, subjectivity=0.0)\n",
            "RT@CSEmelec:¡Faltapoco!#SiempreAzulteesperadel2al4deSeptiembre,enelCentrodeConvencioneshttps://t.co/VuSUM5tftAhttps://t.…\n",
            "Sentiment(polarity=0.0, subjectivity=0.0)\n",
            "Mimamidicequesoysubebeaunqueyaesteviejita.Teamomamiaunquemequierasmatarpormigenio.:-)https://t.co/wEIhlqCfi9\n",
            "Sentiment(polarity=0.0, subjectivity=0.0)\n",
            "Misvestidosde#Novianosécuálescogerhttps://t.co/7wLVPBxBPs\n",
            "Sentiment(polarity=0.0, subjectivity=0.0)\n",
            "RT@EcuavisaInforma:Desdelosoctavosdefinal#IDVdecidiódonartodasutaquillaparalosdamnificadosdelterremoto.#Visión360https:/…\n",
            "Sentiment(polarity=0.0, subjectivity=0.0)\n",
            "RT@CSEmelec:#VivaGuayaquilLacunadelClubSportEmelec.Felicidadesportus481añosdefundación#GarraGuayaquileñahttps://t.co/GS…\n",
            "Sentiment(polarity=0.0, subjectivity=0.0)\n",
            "https://t.co/ZVZiJfrMa4\n",
            "Sentiment(polarity=0.0, subjectivity=0.0)\n",
            "Hermosaapoyandoami#Emelechttps://t.co/L7ho2ajLeM\n",
            "Sentiment(polarity=0.0, subjectivity=0.0)\n",
            "MuchoscambiosenmividaperosiempreSonríehttps://t.co/BBVoKZYQLy\n",
            "Sentiment(polarity=0.0, subjectivity=0.0)\n",
            "RT@ecuavisa:Subeunafotodetuhijoysumascota,usa#EcuavisaYLasMascotasypodrásllevarloalpreestreno.(ParaUIO-GYE)https://t.c…\n",
            "Sentiment(polarity=0.0, subjectivity=0.0)\n",
            "RT@ulvr_edu:https://t.co/Y8i82R15M0\n",
            "Sentiment(polarity=0.0, subjectivity=0.0)\n",
            "RT@DomeSprt:Comenzandobieneldía...https://t.co/Szfq6pAOZt\n",
            "Sentiment(polarity=0.0, subjectivity=0.0)\n",
            "odioestarenferma.NoquierosabernadadeinyeccionesnospastillasDioscuídame\n",
            "Sentiment(polarity=0.0, subjectivity=0.0)\n",
            "RT@EcuavisaInforma:ConductordelcamiónqueatropellóaunamultitudenNiza,Franciafueabatidohttps://t.co/pexBNL73uchttps://t.co/v…\n",
            "Sentiment(polarity=0.0, subjectivity=0.0)\n",
            "RT@CSEmelec:EstedomingoDOBLETEENELALBERTOSPENCER.Preciospara@CSEmelecVs.@ClubMushucRuna1(Preliminar#River-#Aucas)https://…\n",
            "Sentiment(polarity=0.0, subjectivity=0.0)\n",
            "RT@CSEmelec:FernandoGiménez@vikingogimenezestádecumpleañoshoy.¡Felicidades,Vikingo!https://t.co/340Bw1bsmn\n",
            "Sentiment(polarity=0.0, subjectivity=0.0)\n",
            "RT@DulceMaria:Ysi...Yavecesaunquenodigasnada...porelsolohechodeexistirynoserohacerloquelagenteesperahttps://t.…\n",
            "Sentiment(polarity=0.0, subjectivity=0.0)\n",
            "RT@EcuavisaInforma:ReportandosvigilantesmuertosenAv.TancaMarengo,alaalturadeCdlaMarthadeRoldós.Foto:@crudarealidadechtt…\n",
            "Sentiment(polarity=0.0, subjectivity=0.0)\n"
          ],
          "name": "stdout"
        }
      ]
    },
    {
      "cell_type": "code",
      "metadata": {
        "id": "EpvVMKyb_dOg"
      },
      "source": [
        "import matplotlib.pyplot as plt \n",
        "%matplotlib inline"
      ],
      "execution_count": null,
      "outputs": []
    },
    {
      "cell_type": "code",
      "metadata": {
        "id": "bQ44gz4k_dKm",
        "colab": {
          "base_uri": "https://localhost:8080/",
          "height": 621
        },
        "outputId": "d7b8eb51-ccf2-4e51-a9b7-db44ca6efad7"
      },
      "source": [
        "plt.figure(figsize = (20, 10))\n",
        "plt.scatter(data_2 [\"Day\"], popularity_list)\n",
        "plt.title(\"Sentimientos en twitter\")\n",
        "plt.xlabel(\"Tweets\")\n",
        "plt.ylabel(\"Sentiment\")\n",
        "plt.show()\n"
      ],
      "execution_count": null,
      "outputs": [
        {
          "output_type": "display_data",
          "data": {
            "image/png": "[encoded data removed]",
            "text/plain": [
              "<Figure size 1440x720 with 1 Axes>"
            ]
          },
          "metadata": {
            "tags": [],
            "needs_background": "light"
          }
        }
      ]
    },
    {
      "cell_type": "code",
      "metadata": {
        "id": "I9yXLF3h_dGO",
        "colab": {
          "base_uri": "https://localhost:8080/",
          "height": 214
        },
        "outputId": "4df06f5d-927e-4a70-c9e2-30824304a3ff"
      },
      "source": [
        "from wordcloud import WordCloud\n",
        "wordcloud = WordCloud(background_color=\"white\", colormap=\"Dark2\",\n",
        "                      max_font_size=150, random_state=42).generate(text_tweet)\n",
        "\n",
        "\n",
        "\n",
        "plt.imshow(wordcloud)\n",
        "plt.axis(\"off\")\n",
        "plt.title(\"Palabras mas usadas usuario promedio 2020\")\n",
        "plt.show()"
      ],
      "execution_count": null,
      "outputs": [
        {
          "output_type": "display_data",
          "data": {
            "image/png": "[encoded data removed]",
            "text/plain": [
              "<Figure size 432x288 with 1 Axes>"
            ]
          },
          "metadata": {
            "tags": [],
            "needs_background": "light"
          }
        }
      ]
    },
    {
      "cell_type": "code",
      "metadata": {
        "id": "XDG5Tl19_c7V"
      },
      "source": [
        ""
      ],
      "execution_count": null,
      "outputs": []
    },
    {
      "cell_type": "code",
      "metadata": {
        "id": "x4lwAO9WeYDq",
        "colab": {
          "base_uri": "https://localhost:8080/",
          "height": 233
        },
        "outputId": "58ab79a7-bba8-496e-df6e-1e2443f76682"
      },
      "source": [
        "searched_tweets = self.api.search(query= \"empresario\", tweet_mode=\"extended\")\n",
        "\n",
        "with open('test2.csv', 'w', newline='', encoding='utf-8') as file:\n",
        "  writer = csv.writer(file)\n",
        "  writer.writerow([\"Date\", \"Day\", \"Tweet\", \"Retweets\", \"Likes\"])\n",
        "\n",
        "\n",
        "  for tweet in busquedad:\n",
        "    text_tweet = tweet.full_text\n",
        "    print(text_tweet)\n",
        "    allchars = [str for str in text_tweet]\n",
        "    emoji_list = [c for c in allchars if c in emoji.UNICODE_EMOJI]\n",
        "    clean_text = ''.join([str for str in text_tweet.split() if not any(i in str for i in emoji_list)])\n",
        "    data = [tweet.created_at.date().strftime(\"%b %d %Y \"), tweet.created_at.date().strftime(\"%b %d\"), clean_text, tweet.retweet_count, tweet.favorite_count]\n",
        "    writer.writerow(data)"
      ],
      "execution_count": null,
      "outputs": [
        {
          "output_type": "error",
          "ename": "NameError",
          "evalue": "ignored",
          "traceback": [
            "\u001b[0;31m---------------------------------------------------------------------------\u001b[0m",
            "\u001b[0;31mNameError\u001b[0m                                 Traceback (most recent call last)",
            "\u001b[0;32m<ipython-input-1-29a3bca4bcbb>\u001b[0m in \u001b[0;36m<module>\u001b[0;34m()\u001b[0m\n\u001b[0;32m----> 1\u001b[0;31m \u001b[0msearched_tweets\u001b[0m \u001b[0;34m=\u001b[0m \u001b[0mself\u001b[0m\u001b[0;34m.\u001b[0m\u001b[0mapi\u001b[0m\u001b[0;34m.\u001b[0m\u001b[0msearch\u001b[0m\u001b[0;34m(\u001b[0m\u001b[0mquery\u001b[0m\u001b[0;34m=\u001b[0m \u001b[0;34m\"empresario\"\u001b[0m\u001b[0;34m,\u001b[0m \u001b[0mtweet_mode\u001b[0m\u001b[0;34m=\u001b[0m\u001b[0;34m\"extended\"\u001b[0m\u001b[0;34m)\u001b[0m\u001b[0;34m\u001b[0m\u001b[0;34m\u001b[0m\u001b[0m\n\u001b[0m\u001b[1;32m      2\u001b[0m \u001b[0;34m\u001b[0m\u001b[0m\n\u001b[1;32m      3\u001b[0m \u001b[0;32mwith\u001b[0m \u001b[0mopen\u001b[0m\u001b[0;34m(\u001b[0m\u001b[0;34m'test2.csv'\u001b[0m\u001b[0;34m,\u001b[0m \u001b[0;34m'w'\u001b[0m\u001b[0;34m,\u001b[0m \u001b[0mnewline\u001b[0m\u001b[0;34m=\u001b[0m\u001b[0;34m''\u001b[0m\u001b[0;34m,\u001b[0m \u001b[0mencoding\u001b[0m\u001b[0;34m=\u001b[0m\u001b[0;34m'utf-8'\u001b[0m\u001b[0;34m)\u001b[0m \u001b[0;32mas\u001b[0m \u001b[0mfile\u001b[0m\u001b[0;34m:\u001b[0m\u001b[0;34m\u001b[0m\u001b[0;34m\u001b[0m\u001b[0m\n\u001b[1;32m      4\u001b[0m   \u001b[0mwriter\u001b[0m \u001b[0;34m=\u001b[0m \u001b[0mcsv\u001b[0m\u001b[0;34m.\u001b[0m\u001b[0mwriter\u001b[0m\u001b[0;34m(\u001b[0m\u001b[0mfile\u001b[0m\u001b[0;34m)\u001b[0m\u001b[0;34m\u001b[0m\u001b[0;34m\u001b[0m\u001b[0m\n\u001b[1;32m      5\u001b[0m   \u001b[0mwriter\u001b[0m\u001b[0;34m.\u001b[0m\u001b[0mwriterow\u001b[0m\u001b[0;34m(\u001b[0m\u001b[0;34m[\u001b[0m\u001b[0;34m\"Date\"\u001b[0m\u001b[0;34m,\u001b[0m \u001b[0;34m\"Day\"\u001b[0m\u001b[0;34m,\u001b[0m \u001b[0;34m\"Tweet\"\u001b[0m\u001b[0;34m,\u001b[0m \u001b[0;34m\"Retweets\"\u001b[0m\u001b[0;34m,\u001b[0m \u001b[0;34m\"Likes\"\u001b[0m\u001b[0;34m]\u001b[0m\u001b[0;34m)\u001b[0m\u001b[0;34m\u001b[0m\u001b[0;34m\u001b[0m\u001b[0m\n",
            "\u001b[0;31mNameError\u001b[0m: name 'self' is not defined"
          ]
        }
      ]
    },
    {
      "cell_type": "code",
      "metadata": {
        "id": "ATCY52ebeXxB"
      },
      "source": [
        ""
      ],
      "execution_count": null,
      "outputs": []
    }
  ]
}